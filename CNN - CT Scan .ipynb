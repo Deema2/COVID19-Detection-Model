{
 "cells": [
  {
   "cell_type": "code",
   "execution_count": 37,
   "metadata": {},
   "outputs": [],
   "source": [
    "import pandas as pd\n",
    "import numpy as np\n",
    "import glob\n",
    "import cv2\n",
    "from sklearn.preprocessing import LabelBinarizer\n",
    "from keras.layers import Dense, Dropout, Activation, Flatten, Conv2D, MaxPooling2D, SeparableConv2D, Convolution2D\n",
    "from keras.models import Sequential\n",
    "from keras.preprocessing.image import ImageDataGenerator"
   ]
  },
  {
   "cell_type": "code",
   "execution_count": 16,
   "metadata": {},
   "outputs": [
    {
     "name": "stdout",
     "output_type": "stream",
     "text": [
      "Collecting opencv-python\n",
      "  Downloading opencv_python-4.2.0.34-cp37-cp37m-macosx_10_9_x86_64.whl (49.1 MB)\n",
      "\u001b[K     |████████████████████████████████| 49.1 MB 9.1 MB/s eta 0:00:011    |███████▌                        | 11.4 MB 7.2 MB/s eta 0:00:06     |████████████████                | 24.6 MB 12.5 MB/s eta 0:00:02     |███████████████████████████▍    | 42.0 MB 12.8 MB/s eta 0:00:01\n",
      "\u001b[?25hRequirement already satisfied: numpy>=1.14.5 in /opt/anaconda3/lib/python3.7/site-packages (from opencv-python) (1.18.1)\n",
      "Installing collected packages: opencv-python\n",
      "Successfully installed opencv-python-4.2.0.34\n"
     ]
    }
   ],
   "source": [
    "!pip install opencv-python\n"
   ]
  },
  {
   "cell_type": "code",
   "execution_count": 19,
   "metadata": {},
   "outputs": [],
   "source": [
    "train_normal_imgs = glob.glob (\"chest_xray/train/NORMAL/*\")\n",
    "train_pneumonia_imgs = glob.glob (\"chest_xray/train/PNEUMONIA/*\")\n",
    "test_normal_imgs = glob.glob (\"chest_xray/test/NORMAL/*\")\n",
    "test_pneumonia_imgs = glob.glob (\"chest_xray/test/PNEUMONIA/*\")"
   ]
  },
  {
   "cell_type": "code",
   "execution_count": 39,
   "metadata": {},
   "outputs": [
    {
     "data": {
      "text/plain": [
       "3875"
      ]
     },
     "execution_count": 39,
     "metadata": {},
     "output_type": "execute_result"
    }
   ],
   "source": [
    "len(train_pneumonia_imgs)"
   ]
  },
  {
   "cell_type": "code",
   "execution_count": 25,
   "metadata": {},
   "outputs": [
    {
     "name": "stdout",
     "output_type": "stream",
     "text": [
      "X_train shape: (3875, 225, 225, 3)\n",
      "y_train shape: (3875,)\n",
      "X_train shape: (5216, 225, 225, 3)\n",
      "y_train shape: (5216,)\n",
      "X_test shape: (390, 225, 225, 3)\n",
      "y_test shape: (390,)\n",
      "X_test shape: (624, 225, 225, 3)\n",
      "y_test shape: (624,)\n"
     ]
    }
   ],
   "source": [
    "\n",
    "train_normal_data = []\n",
    "train_pneumonia_data = []\n",
    "test_normal_data = []\n",
    "test_pneumonia_data = []\n",
    "X_train = []\n",
    "X_test = []\n",
    "y_train = []\n",
    "y_test = []\n",
    "\n",
    "normal_data = []\n",
    "covid_imgs = glob.glob (\"/content/datasets/covid/*\")\n",
    "normal_imgs = glob.glob(\"/content/datasets/healthy/*\")\n",
    "\n",
    "\n",
    "label = \"positive\"\n",
    "for img in train_pneumonia_imgs:\n",
    "    img = cv2.imread(img)\n",
    "    img = cv2.cvtColor(img, cv2.COLOR_BGR2RGB)\n",
    "    img = cv2.resize(img, (225, 225))\n",
    "    X_train.append(img)\n",
    "    y_train.append(label)\n",
    "print('X_train shape:', np.array(X_train).shape)\n",
    "print('y_train shape:', np.array(y_train).shape)\n",
    "\n",
    "\n",
    "label = \"negative\"\n",
    "for img in train_normal_imgs:\n",
    "    img = cv2.imread(img)\n",
    "    img = cv2.cvtColor(img, cv2.COLOR_BGR2RGB)\n",
    "    img = cv2.resize(img, (225, 225))\n",
    "    X_train.append(img)\n",
    "    y_train.append(label)\n",
    "print('X_train shape:', np.array(X_train).shape)\n",
    "print('y_train shape:', np.array(y_train).shape)\n",
    "\n",
    "\n",
    "label = \"positive\"\n",
    "for img in test_pneumonia_imgs:\n",
    "    img = cv2.imread(img)\n",
    "    img = cv2.cvtColor(img, cv2.COLOR_BGR2RGB)\n",
    "    img = cv2.resize(img, (225, 225))\n",
    "    X_test.append(img)\n",
    "    y_test.append(label)\n",
    "print('X_test shape:', np.array(X_test).shape)\n",
    "print('y_test shape:', np.array(y_test).shape)   \n",
    "\n",
    "label = \"negative\"\n",
    "for img in test_normal_imgs:\n",
    "    img = cv2.imread(img)\n",
    "    img = cv2.cvtColor(img, cv2.COLOR_BGR2RGB)\n",
    "    img = cv2.resize(img, (225, 225))\n",
    "    X_test.append(img)\n",
    "    y_test.append(label)\n",
    "print('X_test shape:', np.array(X_test).shape)\n",
    "print('y_test shape:', np.array(y_test).shape)   \n",
    "\n",
    "X_train = np.array(X_train) / 255.0\n",
    "X_test = np.array(X_test) / 255.0\n",
    "y_train = np.array(y_train)\n",
    "y_test = np.array(y_test)\n",
    "\n",
    "# One Hot Encode the data\n",
    "lb = LabelBinarizer()\n",
    "y_train = lb.fit_transform(y_train)\n",
    "lb = LabelBinarizer()\n",
    "y_test = lb.fit_transform(y_test)\n"
   ]
  },
  {
   "cell_type": "code",
   "execution_count": 26,
   "metadata": {},
   "outputs": [
    {
     "data": {
      "text/plain": [
       "array([[1],\n",
       "       [1],\n",
       "       [1],\n",
       "       ...,\n",
       "       [0],\n",
       "       [0],\n",
       "       [0]])"
      ]
     },
     "execution_count": 26,
     "metadata": {},
     "output_type": "execute_result"
    }
   ],
   "source": [
    "y_train"
   ]
  },
  {
   "cell_type": "code",
   "execution_count": 41,
   "metadata": {},
   "outputs": [],
   "source": [
    "#Initializing the CNN\n",
    "classifier = Sequential()"
   ]
  },
  {
   "cell_type": "code",
   "execution_count": 42,
   "metadata": {},
   "outputs": [
    {
     "name": "stderr",
     "output_type": "stream",
     "text": [
      "/opt/anaconda3/lib/python3.7/site-packages/ipykernel_launcher.py:2: UserWarning: Update your `Conv2D` call to the Keras 2 API: `Conv2D(32, (3, 3), input_shape=(225, 225,..., activation=\"relu\")`\n",
      "  \n",
      "/opt/anaconda3/lib/python3.7/site-packages/ipykernel_launcher.py:11: UserWarning: Update your `Dense` call to the Keras 2 API: `Dense(activation=\"relu\", units=128)`\n",
      "  # This is added back by InteractiveShellApp.init_path()\n",
      "/opt/anaconda3/lib/python3.7/site-packages/ipykernel_launcher.py:12: UserWarning: Update your `Dense` call to the Keras 2 API: `Dense(activation=\"sigmoid\", units=1)`\n",
      "  if sys.path[0] == '':\n"
     ]
    },
    {
     "name": "stdout",
     "output_type": "stream",
     "text": [
      "Found 5216 images belonging to 2 classes.\n",
      "Found 624 images belonging to 2 classes.\n"
     ]
    }
   ],
   "source": [
    "# Step1: Convolution\n",
    "classifier.add(Convolution2D(32, 3, 3, input_shape=(225, 225, 3), activation='relu'))\n",
    "\n",
    "# Step2: Pooling\n",
    "classifier.add(MaxPooling2D(pool_size = (2,2)))\n",
    "\n",
    "# Step3: Faltenning\n",
    "classifier.add(Flatten())\n",
    "\n",
    "# Step4: Full connection\n",
    "classifier.add(Dense(output_dim = 128, activation='relu'))\n",
    "classifier.add(Dense(output_dim = 1, activation='sigmoid'))\n",
    "\n",
    "# Step5: Compiling the CNN\n",
    "classifier.compile(optimizer = 'adam', loss = 'binary_crossentropy', metrics = ['accuracy'])\n",
    "\n",
    "# Step6: Fitting the CNN to the images\n",
    "train_datagen = ImageDataGenerator(\n",
    "        rescale=1./255,\n",
    "        shear_range=0.2,\n",
    "        zoom_range=0.2,\n",
    "        horizontal_flip=True)\n",
    "\n",
    "test_datagen = ImageDataGenerator(rescale=1./255)\n",
    "\n",
    "training_set = train_datagen.flow_from_directory(\n",
    "        'chest_xray/train',\n",
    "        target_size=(225, 225),\n",
    "        batch_size=32,\n",
    "        class_mode='binary')\n",
    "\n",
    "label_map = training_set.class_indices\n",
    "\n",
    "test_set = test_datagen.flow_from_directory(\n",
    "        'chest_xray/test',\n",
    "        target_size=(225, 225),\n",
    "        batch_size=32,\n",
    "        class_mode='binary')"
   ]
  },
  {
   "cell_type": "code",
   "execution_count": 45,
   "metadata": {},
   "outputs": [
    {
     "name": "stdout",
     "output_type": "stream",
     "text": [
      "Epoch 1/5\n",
      "5216/5216 [==============================] - 7995s 2s/step - loss: 0.1020 - accuracy: 0.9620 - val_loss: 0.5339 - val_accuracy: 0.9135\n",
      "Epoch 2/5\n",
      "5216/5216 [==============================] - 7696s 1s/step - loss: 0.0752 - accuracy: 0.9721 - val_loss: 0.0101 - val_accuracy: 0.9167\n",
      "Epoch 3/5\n",
      "5216/5216 [==============================] - 7053s 1s/step - loss: 0.0586 - accuracy: 0.9787 - val_loss: 0.8162 - val_accuracy: 0.9135\n",
      "Epoch 4/5\n",
      "5216/5216 [==============================] - 7351s 1s/step - loss: 0.0489 - accuracy: 0.9824 - val_loss: 0.0678 - val_accuracy: 0.9071\n",
      "Epoch 5/5\n",
      "5216/5216 [==============================] - 6968s 1s/step - loss: 0.0418 - accuracy: 0.9850 - val_loss: 1.7572 - val_accuracy: 0.9006\n"
     ]
    },
    {
     "data": {
      "text/plain": [
       "<keras.callbacks.callbacks.History at 0x148a00e10>"
      ]
     },
     "execution_count": 45,
     "metadata": {},
     "output_type": "execute_result"
    }
   ],
   "source": [
    "\n",
    "\n",
    "classifier.fit_generator(\n",
    "        training_set,\n",
    "        steps_per_epoch=5216,\n",
    "        epochs=5,\n",
    "        validation_data=test_set,\n",
    "        validation_steps=800)"
   ]
  },
  {
   "cell_type": "code",
   "execution_count": 46,
   "metadata": {},
   "outputs": [
    {
     "data": {
      "text/plain": [
       "keras.engine.sequential.Sequential"
      ]
     },
     "execution_count": 46,
     "metadata": {},
     "output_type": "execute_result"
    }
   ],
   "source": [
    "type(classifier)"
   ]
  },
  {
   "cell_type": "code",
   "execution_count": 47,
   "metadata": {},
   "outputs": [
    {
     "name": "stdout",
     "output_type": "stream",
     "text": [
      "Found 0 images belonging to 0 classes.\n"
     ]
    },
    {
     "data": {
      "text/plain": [
       "[]"
      ]
     },
     "execution_count": 47,
     "metadata": {},
     "output_type": "execute_result"
    }
   ],
   "source": [
    "test_gen = ImageDataGenerator(\n",
    "        rescale=1./255,\n",
    "        shear_range=0.2,\n",
    "        zoom_range=0.2,\n",
    "        horizontal_flip=True)\n",
    "test = test_gen.flow_from_directory(\n",
    "        'chest_xray/te',\n",
    "        target_size=(225, 225),\n",
    "        class_mode='binary')\n",
    "classifier.predict(test)\n",
    "\n"
   ]
  },
  {
   "cell_type": "code",
   "execution_count": 165,
   "metadata": {},
   "outputs": [],
   "source": [
    "classifier.save('COVID19-CNN.model')\n"
   ]
  },
  {
   "cell_type": "code",
   "execution_count": 49,
   "metadata": {},
   "outputs": [],
   "source": [
    "test_covid_img = glob.glob (\"chest_xray/te/NORMAL/*\")\n",
    "normal_imgs = glob.glob(\"/content/datasets/healthy/*\")\n",
    "\n",
    "\n",
    "# label = \"positive\"\n",
    "# for img in train_pneumonia_imgs:\n",
    "#     img = cv2.imread(img)\n",
    "#     img = cv2.cvtColor(img, cv2.COLOR_BGR2RGB)\n",
    "#     img = cv2.resize(img, (225, 225))\n",
    "neg_img = cv2.imread('chest_xray/te/neg.jpeg')\n",
    "neg_img = cv2.resize(neg_img, (225, 225))\n",
    "\n",
    "pos_img = cv2.imread('chest_xray/te/pos.jpeg')\n",
    "pos_img = cv2.resize(pos_img, (225, 225))"
   ]
  },
  {
   "cell_type": "code",
   "execution_count": 163,
   "metadata": {},
   "outputs": [],
   "source": [
    "\n",
    "CATEGORIES = ['NORMAL','PNEUMONIA']  # will use this to convert prediction num to string value\n",
    "\n",
    "IMG_SIZE = 225\n",
    "\n",
    "def prepare(filepath):\n",
    "    IMG_SIZE = 225\n",
    "    img_array = cv2.imread(filepath)  # read in the image, convert to grayscale\n",
    "    new_array = cv2.resize(img_array, (IMG_SIZE, IMG_SIZE))  # resize image to match model's expected sizing\n",
    "    return new_array.reshape(-1, IMG_SIZE, IMG_SIZE, 3)  # return the image with shaping that TF wants.\n",
    "\n",
    "\n",
    "prediction = classifier.predict([prepare('chest_xray/te/neg10.jpeg')])"
   ]
  },
  {
   "cell_type": "code",
   "execution_count": 164,
   "metadata": {},
   "outputs": [
    {
     "data": {
      "text/plain": [
       "'NORMAL'"
      ]
     },
     "execution_count": 164,
     "metadata": {},
     "output_type": "execute_result"
    }
   ],
   "source": [
    "CATEGORIES[int(prediction[0][0])]"
   ]
  },
  {
   "cell_type": "code",
   "execution_count": null,
   "metadata": {},
   "outputs": [],
   "source": []
  },
  {
   "cell_type": "code",
   "execution_count": null,
   "metadata": {},
   "outputs": [],
   "source": []
  }
 ],
 "metadata": {
  "kernelspec": {
   "display_name": "Python 3",
   "language": "python",
   "name": "python3"
  },
  "language_info": {
   "codemirror_mode": {
    "name": "ipython",
    "version": 3
   },
   "file_extension": ".py",
   "mimetype": "text/x-python",
   "name": "python",
   "nbconvert_exporter": "python",
   "pygments_lexer": "ipython3",
   "version": "3.7.6"
  }
 },
 "nbformat": 4,
 "nbformat_minor": 4
}
